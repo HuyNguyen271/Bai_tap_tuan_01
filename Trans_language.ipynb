{
  "nbformat": 4,
  "nbformat_minor": 0,
  "metadata": {
    "colab": {
      "provenance": [],
      "toc_visible": true,
      "authorship_tag": "ABX9TyM/F4Pg59eQA2oTvFqv2f2q",
      "include_colab_link": true
    },
    "kernelspec": {
      "name": "python3",
      "display_name": "Python 3"
    },
    "language_info": {
      "name": "python"
    },
    "accelerator": "GPU",
    "gpuClass": "standard"
  },
  "cells": [
    {
      "cell_type": "markdown",
      "metadata": {
        "id": "view-in-github",
        "colab_type": "text"
      },
      "source": [
        "<a href=\"https://colab.research.google.com/github/HuyNguyen271/Bai_tap_tuan_01/blob/main/Trans_language.ipynb\" target=\"_parent\"><img src=\"https://colab.research.google.com/assets/colab-badge.svg\" alt=\"Open In Colab\"/></a>"
      ]
    },
    {
      "cell_type": "code",
      "execution_count": 3,
      "metadata": {
        "colab": {
          "base_uri": "https://localhost:8080/"
        },
        "id": "0EOTvIPZW0Nn",
        "outputId": "01ea1b90-744b-4fc8-e664-2e5371b2b94e"
      },
      "outputs": [
        {
          "output_type": "stream",
          "name": "stdout",
          "text": [
            "Mounted at /content/drive\n"
          ]
        }
      ],
      "source": [
        "from google.colab import drive\n",
        "drive.mount('/content/drive')"
      ]
    },
    {
      "cell_type": "code",
      "source": [
        "# Speech to Text\n",
        "!pip install SpeechRecognition pydub"
      ],
      "metadata": {
        "colab": {
          "base_uri": "https://localhost:8080/"
        },
        "id": "NqW8u1C-W4BO",
        "outputId": "1bb3069f-5564-4add-a84b-3a5ff03f4bf1"
      },
      "execution_count": 2,
      "outputs": [
        {
          "output_type": "stream",
          "name": "stdout",
          "text": [
            "Looking in indexes: https://pypi.org/simple, https://us-python.pkg.dev/colab-wheels/public/simple/\n",
            "Collecting SpeechRecognition\n",
            "  Downloading SpeechRecognition-3.10.0-py2.py3-none-any.whl (32.8 MB)\n",
            "\u001b[2K     \u001b[90m━━━━━━━━━━━━━━━━━━━━━━━━━━━━━━━━━━━━━━━━\u001b[0m \u001b[32m32.8/32.8 MB\u001b[0m \u001b[31m35.6 MB/s\u001b[0m eta \u001b[36m0:00:00\u001b[0m\n",
            "\u001b[?25hCollecting pydub\n",
            "  Downloading pydub-0.25.1-py2.py3-none-any.whl (32 kB)\n",
            "Requirement already satisfied: requests>=2.26.0 in /usr/local/lib/python3.9/dist-packages (from SpeechRecognition) (2.27.1)\n",
            "Requirement already satisfied: charset-normalizer~=2.0.0 in /usr/local/lib/python3.9/dist-packages (from requests>=2.26.0->SpeechRecognition) (2.0.12)\n",
            "Requirement already satisfied: urllib3<1.27,>=1.21.1 in /usr/local/lib/python3.9/dist-packages (from requests>=2.26.0->SpeechRecognition) (1.26.15)\n",
            "Requirement already satisfied: idna<4,>=2.5 in /usr/local/lib/python3.9/dist-packages (from requests>=2.26.0->SpeechRecognition) (3.4)\n",
            "Requirement already satisfied: certifi>=2017.4.17 in /usr/local/lib/python3.9/dist-packages (from requests>=2.26.0->SpeechRecognition) (2022.12.7)\n",
            "Installing collected packages: pydub, SpeechRecognition\n",
            "Successfully installed SpeechRecognition-3.10.0 pydub-0.25.1\n"
          ]
        }
      ]
    },
    {
      "cell_type": "code",
      "source": [
        "import speech_recognition as sr \n",
        "\n",
        "file = '/content/drive/MyDrive/Music1/EnglishVideo1.wav'\n",
        "# Tạo một đối tượng recognizer\n",
        "r = sr.Recognizer()\n",
        "# Đọc file âm thanh\n",
        "with sr.AudioFile(file) as source:\n",
        "    audio_data = r.record(source,duration=100)\n",
        "    audio_data1 = r.record(source,duration=100)\n",
        "    audio_data2 = r.record(source,duration=100)\n",
        "    audio_data3 = r.record(source,duration=100)\n",
        "    audio_data4 = r.record(source,duration=100)\n",
        "    audio_data5 = r.record(source,duration=100)\n",
        "    audio_data6 = r.record(source,duration=100)\n",
        "    audio_data7 = r.record(source,duration=100)\n",
        "\n",
        "    # Chuyển đổi âm thanh thành văn bản bằng Google Speech Recognition\n",
        "    text = r.recognize_google(audio_data)\n",
        "    text1 = r.recognize_google(audio_data1)\n",
        "    text2 = r.recognize_google(audio_data2)\n",
        "    text3 = r.recognize_google(audio_data3)\n",
        "    text4 = r.recognize_google(audio_data4)\n",
        "    text5 = r.recognize_google(audio_data5)\n",
        "    text6 = r.recognize_google(audio_data6)\n",
        "    text7 = r.recognize_google(audio_data7)\n",
        "    print(text, end = '')\n",
        "    print(text1, end = '')\n",
        "    print(text2, end = '')\n",
        "    print(text3, end = '')\n",
        "    print(text4, end = '')\n",
        "    print(text5, end = '')\n",
        "    print(text6, end = '')\n",
        "    print(text7, end = '')\n",
        "    # Ghi văn bản vào file\n",
        "    with open('/content/drive/MyDrive/Music1/ten_file_text.txt', mode='w') as file:\n",
        "        file.write(text)\n",
        "        file.write(text1)\n",
        "        file.write(text2)\n",
        "        file.write(text3)\n",
        "        file.write(text4)\n",
        "        file.write(text5)\n",
        "        file.write(text6)\n",
        "        file.write(text7)"
      ],
      "metadata": {
        "colab": {
          "base_uri": "https://localhost:8080/"
        },
        "id": "MTzqbplmZd6R",
        "outputId": "a25428c5-7545-43d0-e238-c161c9960a00"
      },
      "execution_count": 4,
      "outputs": [
        {
          "output_type": "stream",
          "name": "stdout",
          "text": [
            "today I want to tell you three stories from my life that's it no big deal just three stories the first story is about connecting the dots I dropped out of Reed College after the first 6 months but then stayed around as a drop-in for another eighteen months or so before I really quit so wide I Dropout it started before I was born my biological mother was a young unwed graduate student and she decided to put me up for adoption she felt very strongly that I should be adopted by college graduates so everything was all set for me to be adopted at Birth by a lawyer and his wife accept it when I popped out they decided at the last minute that they really wanted a girl so my parents who are on a waiting list got a call in the middle of the night asking we got an unexpected baby boy do you want him they said of course my biological mother found out later that my mother had never graduated from college and that my father had never graduated from high school she refused to sign the final adoption papers she only relented a few months laterParis promised that I would go to college this was the start in my life and 17 years later I did go to college but I naively chose a college it was almost as expensive as Stanford and all of my working-class parents savings were being spent on my college tuition after 6 months I couldn't see the value in it I had no idea what I wanted to do with my life and no idea how College was going to help me figure it out and here I was spending all the money my parents would save their entire life so I decided to drop out and trust that it would all work out okay it was pretty scary the time but looking back it was one of the best decisions I ever made the minute I dropped out I could stop taking the required classes that didn't interest me and begin dropping in on the ones that looked far more interesting it wasn't all romantic I didn't have a dorm room so I slept on the floor and Friends rooms I return Coke bottles for the $0.05 deposits to buy food with and I would walk the seven miles across town every Sunday night to get one good meal a week at the Hari Krishna Temple I loved it and much of what I stumbled intoby following my curiosity and intuition turned out to be Priceless later on let me give you one example Reed College at that time offered perhaps the best calligraphy instruction in the country throughout the campus every poster every label on every drawer was beautifully hand calligraphed because I had dropped out and didn't have to take the normal classes I decided to take a calligraphy class to learn how to do this I learned about serif and Sans serif typeface has about burying the amount of space between different letter combinations about what makes great typography great it was beautiful historical artistically subtle in a way that science can't capture and I found it fascinating none of this had even hope of any practical application in my life but 10 years later when we were designing the first Macintosh computer it all came back to me and we designed it all into the Mac it was the first computer with beautiful typography if I had never dropped in on that single course in college the Mac would have never had multiple typefaces or proportionally spaced fonts and since Windows just copy the Mac it's likely that no personal computer would have themif I have never dropped out I would have never dropped in on that calligraphy class and personal computers might not have the wonderful typography that they do of course it was impossible to connect the dots looking forward when I was in college but it was very very clear looking backwards 10 years later again you can't connect the dots looking forward you can only connect them looking backwards so you have to trust that the dots will somehow connect in your future you have to trust in something your gut Destiny Life Karma whatever because believing that the dots will connect down the road will give you the confidence to follow your heart even when it leads you off the well-worn path and that will make all the difference my second story is about love and loss I was lucky I found what I love to do early in life Waze and I started Apple in my parents garage when I was 20 we worked hard and in ten years Apple a drone from Just the Two of Us in a garage into a 2 billion dollar company with over 4,000 employees we just released our finest creation the Macintosh a year earlier and I just turned 30and then I got fired how can you get fired from a company you started well as Apple grew we hired someone who I thought was very talented to run the company with me and for the first year so things went well but then our visions of the future began to diverge and eventually we had a falling-out when we did our board of directors sided with him and so a 30 I was out and very publicly out what have been the focus of my entire adult life was gone and it was devastating I really didn't know what to do for a few months I felt that I'd let the previous generation of entrepreneurs down that I dropped the Baton as it was being passed to me I met with David Packard and Bob noise and try to apologize for screwing up so badly I was a very public failure and I even thought about running away from the valley but something slowly began to dawn on me I still loved what I did the turn of events at Apple it not change that one bit I've been rejected but I was still in love and so I decided to start over I didn't see it then but it turned out that getting fired from Apple was the best thing that could have ever happened to me the heaviness of being successful was replaced by the lightness of being a beginner againless sure about everything it freed me to enter one of the most creative periods of my life during the next five years I started a company named next another company name Pixar and fell in love with an amazing woman who would become my wife Pixar went on to create the world's first computer animated feature film Toy Story and is now the most successful Animation Studio in the world in a remarkable turn of events Apple bought next and I returned to Apple and the technology we developed it next is at the heart of Apple's current Renaissance and Lorrain and I have a wonderful family together I'm pretty sure none of this would have happened if I hadn't been fired from Apple it was awful tasting medicine but I guess the patient needed it sometime life sometimes life's going to hit you in the head with a brick don't lose faith I'm convinced that the only thing that kept me going was that I loved what I did you've got to find what you love and that is as true for work as it is for your lovers your work is going to fill a large part of your life and the only way to be truly satisfied is to do what you believe is great work and the only way to do great work is to love what you do if you haven't found it yet keep looking and don't settle as with all matters of the heart you'll knowwhen you find it and like any great relationship it just gets better and better as the years roll on so keep looking don't settle my third story is about death when I was 17 I read a quote that went something like if you live each day as if it was your last someday you'll most certainly be right it made an impression on me and since then for the past 33 years I've looked in the mirror every morning and ask myself if today were the last day of my life would I want to do what I am about to do today and whenever the answer has been no for too many days in a row I know I need to change something remembering that all be dead soon is the most important tool I've ever encountered to help me make the big choices in life because almost everything all external expectations all Pride or fear of embarrassment or failure these things just fall away in the face of death leaving only what is truly important remembering that you are going to die is the best way I know to avoid the Trap of thinkingyou have something to lose you are already naked there is no reason not to follow your heart no one wants to die even people who want to go to heaven don't want to die to get there and yet death is the destination we all share no one has ever escaped it and that is as it should be because death is very likely the single best invention of life it's life's change agent it clears out the old to make way for the new right now the new is you but someday not too long from now you will gradually become the old and be cleared away sorry to be so dramatic but it's quite true your time is limited so don't waste it living in someone else's life don't be trapped by Dogma which is living with the results of other people's thinking don't let the noise of others opinions drowned out your own inner voice and most important have the courage to follow your heart and intuition they somehow already know what you truly want to become everything else is secondary stay hungry stay foolish thank you all very much"
          ]
        }
      ]
    },
    {
      "cell_type": "code",
      "source": [
        "!pip install googletrans==3.1.0a0"
      ],
      "metadata": {
        "colab": {
          "base_uri": "https://localhost:8080/"
        },
        "id": "kc7ZxUPJnR13",
        "outputId": "7eed7a92-72be-4a0d-c8ac-9b86b7b228a4"
      },
      "execution_count": 1,
      "outputs": [
        {
          "output_type": "stream",
          "name": "stdout",
          "text": [
            "Looking in indexes: https://pypi.org/simple, https://us-python.pkg.dev/colab-wheels/public/simple/\n",
            "Requirement already satisfied: googletrans==3.1.0a0 in /usr/local/lib/python3.9/dist-packages (3.1.0a0)\n",
            "Requirement already satisfied: httpx==0.13.3 in /usr/local/lib/python3.9/dist-packages (from googletrans==3.1.0a0) (0.13.3)\n",
            "Requirement already satisfied: certifi in /usr/local/lib/python3.9/dist-packages (from httpx==0.13.3->googletrans==3.1.0a0) (2022.12.7)\n",
            "Requirement already satisfied: idna==2.* in /usr/local/lib/python3.9/dist-packages (from httpx==0.13.3->googletrans==3.1.0a0) (2.10)\n",
            "Requirement already satisfied: hstspreload in /usr/local/lib/python3.9/dist-packages (from httpx==0.13.3->googletrans==3.1.0a0) (2023.1.1)\n",
            "Requirement already satisfied: sniffio in /usr/local/lib/python3.9/dist-packages (from httpx==0.13.3->googletrans==3.1.0a0) (1.3.0)\n",
            "Requirement already satisfied: rfc3986<2,>=1.3 in /usr/local/lib/python3.9/dist-packages (from httpx==0.13.3->googletrans==3.1.0a0) (1.5.0)\n",
            "Requirement already satisfied: chardet==3.* in /usr/local/lib/python3.9/dist-packages (from httpx==0.13.3->googletrans==3.1.0a0) (3.0.4)\n",
            "Requirement already satisfied: httpcore==0.9.* in /usr/local/lib/python3.9/dist-packages (from httpx==0.13.3->googletrans==3.1.0a0) (0.9.1)\n",
            "Requirement already satisfied: h11<0.10,>=0.8 in /usr/local/lib/python3.9/dist-packages (from httpcore==0.9.*->httpx==0.13.3->googletrans==3.1.0a0) (0.9.0)\n",
            "Requirement already satisfied: h2==3.* in /usr/local/lib/python3.9/dist-packages (from httpcore==0.9.*->httpx==0.13.3->googletrans==3.1.0a0) (3.2.0)\n",
            "Requirement already satisfied: hpack<4,>=3.0 in /usr/local/lib/python3.9/dist-packages (from h2==3.*->httpcore==0.9.*->httpx==0.13.3->googletrans==3.1.0a0) (3.0.0)\n",
            "Requirement already satisfied: hyperframe<6,>=5.2.0 in /usr/local/lib/python3.9/dist-packages (from h2==3.*->httpcore==0.9.*->httpx==0.13.3->googletrans==3.1.0a0) (5.2.0)\n"
          ]
        }
      ]
    },
    {
      "cell_type": "code",
      "source": [
        "from googletrans import Translator\n",
        "\n",
        "translator =Translator()\n",
        "M='/content/drive/MyDrive/Music1/ten_file_text.txt'\n",
        "with open(M, 'r') as f:\n",
        "    text = f.read()\n",
        "translation =translator.translate(text,dest='vi')\n",
        "print(translation.text)\n",
        "\n",
        "with open('/content/drive/MyDrive/Music1/ten_file_text_trans.txt', mode='w') as file:\n",
        "      file.write(translation.text)"
      ],
      "metadata": {
        "colab": {
          "base_uri": "https://localhost:8080/"
        },
        "id": "I8Fjdr8LnSsK",
        "outputId": "bf5443e6-740f-409a-c17f-55ecd4f8be27"
      },
      "execution_count": 2,
      "outputs": [
        {
          "output_type": "stream",
          "name": "stdout",
          "text": [
            "hôm nay tôi muốn kể cho các bạn nghe ba câu chuyện trong cuộc đời tôi đó không phải là vấn đề lớn chỉ là ba câu chuyện câu chuyện đầu tiên là về việc kết nối các dấu chấm Tôi đã bỏ học tại Đại học Reed sau 6 tháng đầu tiên nhưng sau đó ở lại với tư cách là người ghé thăm trong 18 năm nữa khoảng vài tháng trước khi tôi thực sự bỏ cuộc. Tôi bỏ học bắt đầu từ trước khi tôi được sinh ra. Mẹ ruột của tôi là một sinh viên mới tốt nghiệp chưa có gia đình và bà quyết định nhận tôi làm con nuôi. tất cả đã sắp đặt để tôi được một luật sư nhận làm con nuôi khi mới sinh và vợ của anh ấy đã chấp nhận điều đó khi tôi ra mắt họ vào phút cuối, họ quyết định rằng họ thực sự muốn có một bé gái nên bố mẹ tôi, những người đang trong danh sách chờ đợi, đã nhận được một cuộc gọi vào giữa buổi sinh. đêm hỏi chúng tôi có một bé trai bất ngờ bạn có muốn nó không, họ nói tất nhiên là mẹ ruột của tôi sau đó phát hiện ra rằng mẹ tôi chưa bao giờ tốt nghiệp đại học và bố tôi chưa bao giờ tốt nghiệp trung học, bà từ chối ký vào giấy nhận con nuôi cuối cùng mà bà chỉ hài lòng vài tháng sau Paris hứa rằng tôi sẽ học đại học, đây là bước khởi đầu trong cuộc đời tôi và 17 năm sau tôi đã vào đại học nhưng tôi đã ngây thơ chọn một trường đại học đắt đỏ như Stanford và tất cả tiền tiết kiệm của cha mẹ thuộc tầng lớp lao động của tôi đã được chi cho học phí đại học của tôi sau 6 tháng Tôi không thể thấy giá trị của nó Tôi không biết mình muốn làm gì với cuộc đời mình và không biết Đại học sẽ giúp tôi tìm ra điều đó như thế nào và ở đây tôi đã tiêu hết số tiền mà bố mẹ tôi sẽ dành dụm cả đời nên tôi quyết định bỏ học và tin tưởng rằng mọi chuyện sẽ ổn thỏa, khoảng thời gian đó khá đáng sợ nhưng khi nhìn lại, đó là một trong những quyết định đúng đắn nhất mà tôi từng đưa ra ngay khi tôi có thể bỏ học. ngừng tham gia các lớp học bắt buộc mà tôi không hứng thú và bắt đầu tham gia những lớp học có vẻ thú vị hơn nhiều, nó không hoàn toàn lãng mạn. Tôi không có phòng ký túc xá nên tôi ngủ trên sàn và phòng bạn bè. Tôi trả lại chai coca với khoản đặt cọc 0,05 đô la để mua thức ăn và tôi sẽ đi bộ bảy dặm xuyên thị trấn vào mỗi tối Chủ nhật để có được một bữa ăn ngon mỗi tuần tại Đền Hari Krishna. Tôi yêu thích nó và phần lớn những gì tôi tình cờ gặp phải theo sự tò mò và trực giác của mình hóa ra lại như vậy. trở thành vô giá sau này để tôi cho bạn một ví dụ Trường đại học Reed vào thời điểm đó có lẽ là nơi dạy thư pháp tốt nhất trong cả nước trong toàn bộ khuôn viên trường, mọi áp phích, mọi nhãn trên mỗi ngăn kéo đều được viết bằng tay rất đẹp vì tôi đã bỏ học và không phải học các lớp học bình thường tôi quyết định tham gia một lớp thư pháp để học cách làm điều này tôi đã học về kiểu chữ serif và Sans serif về việc chôn vùi khoảng cách giữa các tổ hợp chữ cái khác nhau về điều gì làm cho kiểu chữ tuyệt vời trở nên tuyệt vời nó đẹp lịch sử một cách tinh tế về mặt nghệ thuật mà khoa học không thể nắm bắt được và tôi thấy nó thật thú vị, không thứ nào trong số này thậm chí còn có hy vọng ứng dụng thực tế nào trong cuộc sống của tôi nhưng 10 năm sau, khi chúng tôi đang thiết kế chiếc máy tính Macintosh đầu tiên, tất cả đã quay trở lại với tôi và chúng tôi đã thiết kế tất cả vào máy Mac đó là chiếc máy tính đầu tiên có kiểu chữ đẹp nếu tôi chưa từng tham gia khóa học duy nhất đó ở trường đại học thì Mac sẽ không bao giờ có nhiều kiểu chữ hoặc phông chữ cách đều nhau và vì Windows chỉ sao chép Mac nên có khả năng sẽ không có máy tính cá nhân nào có chúng nếu tôi có không bao giờ bỏ học Tôi sẽ không bao giờ tham gia lớp thư pháp đó và máy tính cá nhân có thể không có kiểu chữ tuyệt vời mà chúng có tất nhiên là không thể kết nối các dấu chấm khi tôi học đại học nhưng nó rất rõ ràng khi nhìn lại 10 nhiều năm sau một lần nữa bạn không thể kết nối các dấu chấm khi nhìn về phía trước mà bạn chỉ có thể kết nối chúng khi nhìn lại quá khứ vì vậy bạn phải tin tưởng rằng các dấu chấm sẽ kết nối bằng cách nào đó trong tương lai của bạn bạn phải tin vào điều gì đó từ ruột thịt của bạn Định mệnh Cuộc sống Nghiệp chướng bất cứ điều gì bởi vì tin rằng các dấu chấm sẽ kết nối trên con đường sẽ mang lại cho bạn sự tự tin để đi theo trái tim của mình ngay cả khi nó dẫn bạn ra khỏi con đường mòn và điều đó sẽ tạo nên sự khác biệt Câu chuyện thứ hai của tôi là về tình yêu và sự mất mát Tôi thật may mắn Tôi đã tìm thấy những gì tôi yêu thích để làm đầu đời Waze và tôi thành lập Apple trong nhà để xe của bố mẹ tôi khi tôi 20 tuổi, chúng tôi đã làm việc chăm chỉ và trong mười năm, Apple đã biến chiếc máy bay không người lái từ Chỉ hai chúng ta trong nhà để xe thành một công ty trị giá 2 tỷ đô la với hơn 4.000 nhân viên, chúng tôi vừa cho ra mắt những sản phẩm tốt nhất của mình tạo ra Macintosh một năm trước đó và tôi vừa bước sang tuổi 30 và sau đó tôi bị sa thải làm sao bạn có thể bị sa thải khỏi một công ty mà bạn đã thành lập tốt đẹp khi Apple phát triển, chúng tôi đã thuê một người mà tôi nghĩ là rất tài năng để điều hành công ty cùng với tôi và trong năm đầu tiên cũng vậy mọi thứ diễn ra tốt đẹp nhưng sau đó tầm nhìn của chúng tôi về tương lai bắt đầu khác nhau và cuối cùng chúng tôi đã thất bại khi ban giám đốc của chúng tôi đứng về phía anh ấy và vì vậy, 30 cuộc sống trưởng thành đã qua đi và điều đó thật tàn khốc. Tôi thực sự không biết phải làm gì trong vài tháng. Tôi cảm thấy rằng tôi đã làm thế hệ doanh nhân trước đó thất vọng. Tôi đã đánh rơi chiếc Dùi cui khi nó đang được trao cho tôi. Tôi đã gặp David Packard và Bob ồn ào và cố gắng xin lỗi vì đã làm hỏng việc quá tệ. Tôi là một kẻ thất bại nặng nề trước công chúng và thậm chí tôi còn nghĩ đến việc chạy trốn khỏi thung lũng nhưng một điều gì đó dần dần lóe lên trong tôi. Tôi vẫn yêu thích những gì tôi đã làm ở Apple. không thay đổi chút nào Tôi đã từng bị từ chối nhưng tôi vẫn còn yêu và vì vậy tôi quyết định làm lại từ đầu Tôi đã không nhận ra điều đó nhưng hóa ra việc bị Apple sa thải là điều tốt nhất từng xảy ra với tôi sự nặng nề của thành công đã được thay thế bằng sự nhẹ nhàng của một người mới bắt đầu lại không chắc chắn về mọi thứ nó giải phóng tôi để bước vào một trong những giai đoạn sáng tạo nhất của cuộc đời tôi trong năm năm tiếp theo, tôi thành lập một công ty có tên là Pixar và bắt đầu tình yêu với một người phụ nữ tuyệt vời, người sẽ trở thành vợ tôi. Pixar tiếp tục tạo ra bộ phim hoạt hình máy tính đầu tiên trên thế giới Câu chuyện đồ chơi và hiện là Xưởng phim hoạt hình thành công nhất trên thế giới. công nghệ mà chúng tôi phát triển tiếp theo là trung tâm của thời kỳ Phục hưng và Lorrain hiện tại của Apple và tôi có một gia đình tuyệt vời bên nhau. Tôi khá chắc chắn rằng điều này sẽ không xảy ra nếu tôi không bị sa thải khỏi Apple. Đó là một loại thuốc có vị rất tệ nhưng tôi đoán bệnh nhân đôi khi cần nó cuộc sống đôi khi cuộc sống sẽ đập vào đầu bạn bằng một viên gạch đừng mất niềm tin Tôi tin rằng điều duy nhất khiến tôi tiếp tục là tôi yêu những gì tôi đã làm bạn phải tìm thấy những gì bạn yêu thích và điều đó đúng với công việc cũng như với những người yêu của bạn. công việc tuyệt vời là yêu thích những gì bạn làm nếu bạn chưa tìm thấy nó, hãy tiếp tục tìm kiếm và đừng giải quyết vấn đề của trái tim, bạn sẽ biết khi bạn tìm thấy nó và giống như bất kỳ mối quan hệ tuyệt vời nào, nó sẽ ngày càng tốt hơn khi năm tháng trôi qua, vì vậy hãy tiếp tục tìm kiếm, đừng quan tâm đến câu chuyện thứ ba của tôi kể về cái chết khi tôi 17 tuổi. Tôi đã đọc một câu trích dẫn đại loại như nếu bạn sống mỗi ngày như thể đó là ngày cuối cùng của bạn thì chắc chắn bạn sẽ đúng. ấn tượng trong tôi và kể từ đó trong 33 năm qua, tôi đã nhìn vào gương mỗi sáng và tự hỏi bản thân rằng liệu hôm nay có phải là ngày cuối cùng của cuộc đời mình không, tôi có muốn làm những gì tôi sắp làm hôm nay không và bất cứ khi nào câu trả lời là không trong nhiều ngày liên tiếp tôi biết mình cần phải thay đổi điều gì đó và nhớ rằng tất cả đều chết sớm là công cụ quan trọng nhất mà tôi từng gặp để giúp tôi đưa ra những lựa chọn lớn trong đời bởi vì hầu hết mọi thứ đều là những kỳ vọng bên ngoài, tất cả là Kiêu hãnh hay sợ hãi bối rối hay thất bại, những thứ này sẽ biến mất khi đối mặt với cái chết, chỉ để lại những gì thực sự quan trọng, ghi nhớ rằng bạn sắp chết là cách tốt nhất mà tôi biết để tránh Cạm bẫy khi nghĩ rằng bạn có thứ gì đó để mất, bạn đã trần truồng rồi, không có lý do không theo trái tim của bạn, không ai muốn chết ngay cả những người muốn lên thiên đường cũng không muốn chết để đến đó và cái chết là đích đến của tất cả chúng ta, không ai thoát khỏi nó và đó là điều nên làm bởi vì cái chết rất có thể là phát minh tốt nhất duy nhất của cuộc sống nó là tác nhân thay đổi cuộc sống nó dọn sạch cái cũ nhường chỗ cho cái mới ngay bây giờ cái mới là bạn nhưng một ngày nào đó không lâu nữa bạn sẽ dần trở thành cái cũ và bị xóa đi tiếc nuối quá kịch tính nhưng sự thật là thời gian của bạn có hạn, vì vậy đừng lãng phí nó khi sống trong cuộc sống của người khác, đừng bị mắc kẹt bởi Giáo điều đang sống với kết quả suy nghĩ của người khác, đừng để tiếng ồn của ý kiến ​​​​của người khác nhấn chìm nói ra tiếng nói bên trong của chính bạn và quan trọng nhất là hãy dũng cảm đi theo trái tim và trực giác của bạn, bằng cách nào đó họ đã biết bạn thực sự muốn trở thành gì, mọi thứ khác chỉ là thứ yếu.\n"
          ]
        }
      ]
    },
    {
      "cell_type": "code",
      "source": [
        "!pip install gTTS"
      ],
      "metadata": {
        "colab": {
          "base_uri": "https://localhost:8080/"
        },
        "id": "JZWuOMFBoDnf",
        "outputId": "5a6236a0-23b4-4347-f962-66ff3a4f2de8"
      },
      "execution_count": 3,
      "outputs": [
        {
          "output_type": "stream",
          "name": "stdout",
          "text": [
            "Looking in indexes: https://pypi.org/simple, https://us-python.pkg.dev/colab-wheels/public/simple/\n",
            "Collecting gTTS\n",
            "  Downloading gTTS-2.3.1-py3-none-any.whl (28 kB)\n",
            "Requirement already satisfied: click<8.2,>=7.1 in /usr/local/lib/python3.9/dist-packages (from gTTS) (8.1.3)\n",
            "Requirement already satisfied: requests<3,>=2.27 in /usr/local/lib/python3.9/dist-packages (from gTTS) (2.27.1)\n",
            "Requirement already satisfied: charset-normalizer~=2.0.0 in /usr/local/lib/python3.9/dist-packages (from requests<3,>=2.27->gTTS) (2.0.12)\n",
            "Requirement already satisfied: idna<4,>=2.5 in /usr/local/lib/python3.9/dist-packages (from requests<3,>=2.27->gTTS) (2.10)\n",
            "Requirement already satisfied: certifi>=2017.4.17 in /usr/local/lib/python3.9/dist-packages (from requests<3,>=2.27->gTTS) (2022.12.7)\n",
            "Requirement already satisfied: urllib3<1.27,>=1.21.1 in /usr/local/lib/python3.9/dist-packages (from requests<3,>=2.27->gTTS) (1.26.15)\n",
            "Installing collected packages: gTTS\n",
            "Successfully installed gTTS-2.3.1\n"
          ]
        }
      ]
    },
    {
      "cell_type": "code",
      "source": [
        "from  gtts import gTTS\n",
        "import os\n",
        "\n",
        "\n",
        "A ='/content/drive/MyDrive/Music1/ten_file_text_trans.txt'\n",
        "with open(A, 'r') as f:\n",
        "    text = f.read()\n",
        "\n",
        "speak = gTTS(text,lang='vi',slow=False)\n",
        "speak.save('/content/drive/MyDrive/Music1/ten_file_text_trans.mp3')\n",
        "# playsound('/content/drive/MyDrive/DATA/SubLang4.mp3')\n",
        "# os.remove('/content/drive/MyDrive/DATA/SubLang4.mp3')\n",
        "print('text')\n",
        "os.system(f'open {A}')"
      ],
      "metadata": {
        "colab": {
          "base_uri": "https://localhost:8080/"
        },
        "id": "eReGcvFqoaG-",
        "outputId": "0ecc0fa7-dd86-4b8b-b35f-cfb8581c2553"
      },
      "execution_count": 4,
      "outputs": [
        {
          "output_type": "stream",
          "name": "stdout",
          "text": [
            "text\n"
          ]
        },
        {
          "output_type": "execute_result",
          "data": {
            "text/plain": [
              "32512"
            ]
          },
          "metadata": {},
          "execution_count": 4
        }
      ]
    }
  ]
}